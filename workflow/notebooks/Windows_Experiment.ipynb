{
 "cells": [
  {
   "cell_type": "code",
   "execution_count": 35,
   "id": "4c7440c6",
   "metadata": {},
   "outputs": [],
   "source": [
    "from pathlib import Path\n",
    "import pysam\n",
    "import numpy as np\n",
    "import os\n",
    "import pandas as pd"
   ]
  },
  {
   "cell_type": "markdown",
   "id": "d502cf8a",
   "metadata": {},
   "source": [
    "First, we read the BAM file:"
   ]
  },
  {
   "cell_type": "code",
   "execution_count": 2,
   "id": "74ba5fab",
   "metadata": {},
   "outputs": [],
   "source": [
    "infile = \"../../results/aligned/chr_aln_best_5_perc.sorted.bam\"\n",
    "samfile = pysam.AlignmentFile(infile, \"rb\")"
   ]
  },
  {
   "cell_type": "markdown",
   "id": "bab2e2aa",
   "metadata": {},
   "source": [
    "And define our functions:"
   ]
  },
  {
   "cell_type": "code",
   "execution_count": 3,
   "id": "c8fcedf4",
   "metadata": {},
   "outputs": [],
   "source": [
    "def calculate_window_coverage(mat, window_size):\n",
    "    return np.add.reduceat(\n",
    "        np.add.reduceat(mat, np.arange(0, mat.shape[0], 4), axis=0),\n",
    "        np.arange(0, mat.shape[1], window_size), axis=1)\n",
    "def calculate_norm_frequency(mat, window_size):\n",
    "    normalized_mat = np.square(\n",
    "        np.divide(mat, calculate_window_coverage(mat, 1))\n",
    "    )\n",
    "    return calculate_window_coverage(normalized_mat, window_size)"
   ]
  },
  {
   "cell_type": "markdown",
   "id": "81dbd19d",
   "metadata": {},
   "source": [
    "Let's inpect with a toy example:"
   ]
  },
  {
   "cell_type": "code",
   "execution_count": 5,
   "id": "a4ccbfd3",
   "metadata": {},
   "outputs": [
    {
     "name": "stdout",
     "output_type": "stream",
     "text": [
      "[[13 11  0]]\n",
      "[[24]]\n"
     ]
    }
   ],
   "source": [
    "fake_mat = np.matrix(\n",
    "    [[12, 6, 0], [0, 0, 0], [0, 0, 0], [1, 5, 0]]\n",
    ")\n",
    "print(calculate_window_coverage(fake_mat, 1))\n",
    "print(calculate_window_coverage(fake_mat, 4))"
   ]
  },
  {
   "cell_type": "code",
   "execution_count": 6,
   "id": "cdd887fb",
   "metadata": {},
   "outputs": [
    {
     "name": "stdout",
     "output_type": "stream",
     "text": [
      "[[0.60553633 0.38666667 0.25      ]]\n",
      "[[1.242203]]\n"
     ]
    }
   ],
   "source": [
    "print(calculate_norm_frequency(fake_mat + 1, 1))\n",
    "print(calculate_norm_frequency(fake_mat + 1, 4))"
   ]
  },
  {
   "cell_type": "markdown",
   "id": "b855e710",
   "metadata": {},
   "source": [
    "## Window length 1000"
   ]
  },
  {
   "cell_type": "markdown",
   "id": "8bbec6b1",
   "metadata": {},
   "source": [
    "Now, we need to decide a window length: "
   ]
  },
  {
   "cell_type": "code",
   "execution_count": 7,
   "id": "852add7c",
   "metadata": {},
   "outputs": [],
   "source": [
    "accession_list_chr = [\n",
    "    \"CM044164.1\", \"CM044165.1\", \"CM044166.1\", \"CM044167.1\",\n",
    "    \"CM044168.1\", \"CM044169.1\", \"CM044170.1\", \"CM044171.1\",\n",
    "    \"CM044172.1\", \"CM044173.1\", \"CM044174.1\", \"CM044175.1\",\n",
    "    \"CM044176.1\"\n",
    "]"
   ]
  },
  {
   "cell_type": "code",
   "execution_count": 36,
   "id": "739a86de",
   "metadata": {},
   "outputs": [
    {
     "name": "stdout",
     "output_type": "stream",
     "text": [
      "Starting with  CM044164.1\n",
      "Starting with  CM044165.1\n",
      "Starting with  CM044166.1\n",
      "Starting with  CM044167.1\n",
      "Starting with  CM044168.1\n",
      "Starting with  CM044169.1\n",
      "Starting with  CM044170.1\n",
      "Starting with  CM044171.1\n",
      "Starting with  CM044172.1\n",
      "Starting with  CM044173.1\n",
      "Starting with  CM044174.1\n",
      "Starting with  CM044175.1\n",
      "Starting with  CM044176.1\n"
     ]
    }
   ],
   "source": [
    "window_size = 1000\n",
    "output_path = \"windows_exp_1000.csv\"\n",
    "for chr in accession_list_chr:\n",
    "    print(f\"Starting with  {chr}\")\n",
    "    coverage = samfile.count_coverage(contig=chr, quality_threshold=0)\n",
    "    coverage_mat = np.matrix([coverage[0], coverage[1], coverage[2], coverage[3]])\n",
    "    data = {\n",
    "        'window_coverage': calculate_window_coverage(coverage_mat, window_size).tolist()[0],\n",
    "        'window_freq': calculate_norm_frequency(coverage_mat + 1, window_size).tolist()[0]\n",
    "    }\n",
    "    df = pd.DataFrame(data)\n",
    "    df['contig'] = chr\n",
    "    df.to_csv(output_path, mode='a', header=not os.path.exists(output_path))\n"
   ]
  }
 ],
 "metadata": {
  "kernelspec": {
   "display_name": "Python 3 (ipykernel)",
   "language": "python",
   "name": "python3"
  },
  "language_info": {
   "codemirror_mode": {
    "name": "ipython",
    "version": 3
   },
   "file_extension": ".py",
   "mimetype": "text/x-python",
   "name": "python",
   "nbconvert_exporter": "python",
   "pygments_lexer": "ipython3",
   "version": "3.8.15"
  }
 },
 "nbformat": 4,
 "nbformat_minor": 5
}
