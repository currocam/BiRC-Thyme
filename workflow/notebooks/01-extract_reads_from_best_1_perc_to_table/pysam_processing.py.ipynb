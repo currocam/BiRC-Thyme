{
 "cells": [
  {
   "cell_type": "code",
   "execution_count": null,
   "metadata": {},
   "outputs": [],
   "source": [
    "from pathlib import Path\n",
    "import pysam\n"
   ]
  },
  {
   "cell_type": "code",
   "execution_count": null,
   "metadata": {},
   "outputs": [],
   "source": [
    "infiles = [Path(infile) for infile in snakemake.input]\n",
    "print(snakemake.output)\n",
    "cov_5_perc = str(snakemake.output[0])\n",
    "cov_1_perc = str(snakemake.output[1])\n",
    "count_5_perc = str(snakemake.output[2])\n",
    "count_1_perc = str(snakemake.output[3])"
   ]
  },
  {
   "cell_type": "code",
   "execution_count": null,
   "metadata": {},
   "outputs": [],
   "source": [
    "import numpy as np\n",
    "import pandas as pd\n",
    "accession_list_chr = [\n",
    "    \"CM044164.1\", \"CM044165.1\", \"CM044166.1\", \"CM044167.1\",\n",
    "    \"CM044168.1\", \"CM044169.1\", \"CM044170.1\", \"CM044171.1\",\n",
    "    \"CM044172.1\", \"CM044173.1\", \"CM044174.1\", \"CM044175.1\",\n",
    "    \"CM044176.1\"\n",
    "]"
   ]
  },
  {
   "cell_type": "markdown",
   "metadata": {},
   "source": [
    "First, we create the index:"
   ]
  },
  {
   "cell_type": "code",
   "execution_count": null,
   "metadata": {},
   "outputs": [],
   "source": [
    "for infile in infiles:\n",
    "    pysam.index(str(infile))"
   ]
  },
  {
   "cell_type": "markdown",
   "metadata": {},
   "source": [
    "Now, we open the bam file:"
   ]
  },
  {
   "cell_type": "code",
   "execution_count": null,
   "metadata": {},
   "outputs": [],
   "source": [
    "samfiles = [pysam.AlignmentFile(infile, \"rb\") for infile in infiles]"
   ]
  },
  {
   "cell_type": "markdown",
   "metadata": {},
   "source": [
    "## Number of mapped and unmapped reads"
   ]
  },
  {
   "cell_type": "code",
   "execution_count": null,
   "metadata": {},
   "outputs": [],
   "source": [
    "print(f\"There are {samfiles[0].mapped:,.0f} mapped reads after filtering best 5%\")\n",
    "print(f\"There are {samfiles[0].unmapped:,.0f} unmapped reads after filtering best 5%\")\n",
    "print(f\"{samfiles[0].mapped/(samfiles[0].unmapped + samfiles[0].mapped)*100:,.2f}% were mapped after filtering best 5%\")\n",
    "\n",
    "print(f\"There are {samfiles[1].mapped:,.0f} mapped reads after filtering best 1%\")\n",
    "print(f\"There are {samfiles[1].unmapped:,.0f} unmapped reads after filtering best 1%\")\n",
    "print(f\"{samfiles[1].mapped/(samfiles[1].unmapped + samfiles[1].mapped)*100:,.2f}% were mapped after filtering best 1%\")"
   ]
  },
  {
   "cell_type": "code",
   "execution_count": null,
   "metadata": {},
   "outputs": [],
   "source": [
    "print(f\"There are {samfiles[0].nreferences} contigs\")\n",
    "print(f\"There are {sum(samfiles[0].lengths[samfiles[0].get_tid(chr)] for chr in accession_list_chr):,.0f} nucleotides in chromosomes in the reference genome\")"
   ]
  },
  {
   "cell_type": "markdown",
   "metadata": {},
   "source": [
    "## Summarize coverage\n",
    "Now, we are going to create 2 csv tables for summarize coverage and mapped reads to chr "
   ]
  },
  {
   "cell_type": "code",
   "execution_count": null,
   "metadata": {},
   "outputs": [],
   "source": [
    "from functools import reduce\n",
    "def count_coverage(samfile: pysam.AlignmentFile, contig: str)-> int:\n",
    "    counts_per_each_base = samfile.count_coverage(\n",
    "        contig=contig, quality_threshold=0\n",
    "    )\n",
    "    add_ = lambda x, y: np.add(x, y, dtype='int64')\n",
    "    return reduce(add_, counts_per_each_base)"
   ]
  },
  {
   "cell_type": "code",
   "execution_count": null,
   "metadata": {},
   "outputs": [],
   "source": [
    "def summarise_coverage(samfile):\n",
    "    coverages_per_base = [count_coverage(samfile, chr) for chr in accession_list_chr]\n",
    "    contigs_stats = samfile.get_index_statistics()\n",
    "    return pd.DataFrame({\n",
    "        'contig': samfile.references[0:13],\n",
    "        'chr_length': samfile.lengths[0:13],\n",
    "        'mapped_reads': [contig.mapped for contig in contigs_stats[0:13]],\n",
    "        'reads_length': [sum([x.infer_read_length() for x in samfile.fetch(chr)]) for chr in accession_list_chr],\n",
    "        'unmapped_reads': [contig.unmapped for contig in contigs_stats[0:13]],\n",
    "        'coverage': [np.sum(x) for x in coverages_per_base],\n",
    "        })\n",
    "    "
   ]
  },
  {
   "cell_type": "code",
   "execution_count": null,
   "metadata": {},
   "outputs": [],
   "source": [
    "df = summarise_coverage(samfiles[0])\n",
    "df.to_csv(cov_5_perc, index=None)\n",
    "df"
   ]
  },
  {
   "cell_type": "code",
   "execution_count": null,
   "metadata": {},
   "outputs": [],
   "source": [
    "df = summarise_coverage(samfiles[1])\n",
    "df.to_csv(cov_1_perc, index=None)\n",
    "df"
   ]
  },
  {
   "cell_type": "code",
   "execution_count": null,
   "metadata": {},
   "outputs": [],
   "source": [
    "def summarize_count(samfile):\n",
    "    coverages_per_base = [count_coverage(samfile, chr) for chr in accession_list_chr]\n",
    "    return pd.DataFrame({\n",
    "        'contig': np.concatenate([(np.amax(x)+1)*[chr] for x, chr in zip(coverages_per_base, accession_list_chr)]),\n",
    "        'coverage_bin': np.concatenate([list(range(0, np.amax(x)+1)) for x in coverages_per_base]),\n",
    "        'counts': np.concatenate([np.bincount(x) for x in coverages_per_base])\n",
    "        })"
   ]
  },
  {
   "cell_type": "code",
   "execution_count": null,
   "metadata": {},
   "outputs": [],
   "source": [
    "df = summarize_count(samfiles[0])\n",
    "df.to_csv(count_5_perc, index=None)\n",
    "df"
   ]
  },
  {
   "cell_type": "code",
   "execution_count": null,
   "metadata": {},
   "outputs": [],
   "source": [
    "df = summarize_count(samfiles[1])\n",
    "df.to_csv(count_1_perc, index=None)\n",
    "df"
   ]
  }
 ],
 "metadata": {
  "kernelspec": {
   "display_name": "Python 3 (ipykernel)",
   "language": "python",
   "name": "python3"
  },
  "language_info": {
   "codemirror_mode": {
    "name": "ipython",
    "version": 3
   },
   "file_extension": ".py",
   "mimetype": "text/x-python",
   "name": "python",
   "nbconvert_exporter": "python",
   "pygments_lexer": "ipython3",
   "version": "3.8.15"
  },
  "vscode": {
   "interpreter": {
    "hash": "31f2aee4e71d21fbe5cf8b01ff0e069b9275f58929596ceb00d14d90e3e16cd6"
   }
  }
 },
 "nbformat": 4,
 "nbformat_minor": 2
}
