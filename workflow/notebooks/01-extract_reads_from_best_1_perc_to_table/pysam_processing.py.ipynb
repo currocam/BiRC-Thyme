{
 "cells": [
  {
   "cell_type": "code",
   "execution_count": 3,
   "metadata": {},
   "outputs": [],
   "source": [
    "from pathlib import Path\n",
    "import pysam\n"
   ]
  },
  {
   "cell_type": "code",
   "execution_count": null,
   "metadata": {},
   "outputs": [],
   "source": [
    "infiles = [Path(infile) for infile in snakemake.input]\n",
    "cov_5_perc = str(snakemake.output[0])\n",
    "cov_1_perc = str(snakemake.output[1])\n",
    "count_5_perc = str(snakemake.output[2])\n",
    "count_1_perc = str(snakemake.output[3])"
   ]
  },
  {
   "cell_type": "code",
   "execution_count": 5,
   "metadata": {},
   "outputs": [],
   "source": [
    "import numpy as np\n",
    "import pandas as pd\n",
    "accession_list_chr = [\n",
    "    \"CM044164.1\", \"CM044165.1\", \"CM044166.1\", \"CM044167.1\",\n",
    "    \"CM044168.1\", \"CM044169.1\", \"CM044170.1\", \"CM044171.1\",\n",
    "    \"CM044172.1\", \"CM044173.1\", \"CM044174.1\", \"CM044175.1\",\n",
    "    \"CM044176.1\"\n",
    "]"
   ]
  },
  {
   "attachments": {},
   "cell_type": "markdown",
   "metadata": {},
   "source": [
    "First, we create the index:"
   ]
  },
  {
   "cell_type": "code",
   "execution_count": 6,
   "metadata": {},
   "outputs": [],
   "source": [
    "for infile in infiles:\n",
    "    pysam.index(str(infile))"
   ]
  },
  {
   "attachments": {},
   "cell_type": "markdown",
   "metadata": {},
   "source": [
    "Now, we open the bam file:"
   ]
  },
  {
   "cell_type": "code",
   "execution_count": 8,
   "metadata": {},
   "outputs": [],
   "source": [
    "samfiles = [pysam.AlignmentFile(infile, \"rb\") for infile in infiles]"
   ]
  },
  {
   "attachments": {},
   "cell_type": "markdown",
   "metadata": {},
   "source": [
    "## Number of mapped and unmapped reads"
   ]
  },
  {
   "cell_type": "code",
   "execution_count": 9,
   "metadata": {},
   "outputs": [
    {
     "name": "stdout",
     "output_type": "stream",
     "text": [
      "There are 502,727 mapped reads after filtering best 5%\n",
      "There are 1,500 unmapped reads after filtering best 5%\n",
      "99.70% were mapped after filtering best 5%\n",
      "There are 87,782 mapped reads after filtering best 1%\n",
      "There are 254 unmapped reads after filtering best 1%\n",
      "99.71% were mapped after filtering best 1%\n"
     ]
    }
   ],
   "source": [
    "print(f\"There are {samfiles[0].mapped:,.0f} mapped reads after filtering best 5%\")\n",
    "print(f\"There are {samfiles[0].unmapped:,.0f} unmapped reads after filtering best 5%\")\n",
    "print(f\"{samfiles[0].mapped/(samfiles[0].unmapped + samfiles[0].mapped)*100:,.2f}% were mapped after filtering best 5%\")\n",
    "\n",
    "print(f\"There are {samfiles[1].mapped:,.0f} mapped reads after filtering best 1%\")\n",
    "print(f\"There are {samfiles[1].unmapped:,.0f} unmapped reads after filtering best 1%\")\n",
    "print(f\"{samfiles[1].mapped/(samfiles[1].unmapped + samfiles[1].mapped)*100:,.2f}% were mapped after filtering best 1%\")"
   ]
  },
  {
   "cell_type": "code",
   "execution_count": 10,
   "metadata": {},
   "outputs": [
    {
     "name": "stdout",
     "output_type": "stream",
     "text": [
      "There are 478 contigs\n",
      "There are 488,761,465 nucleotides in chromosomes in the reference genome\n"
     ]
    }
   ],
   "source": [
    "print(f\"There are {samfiles[0].nreferences} contigs\")\n",
    "print(f\"There are {sum(samfiles[0].lengths[samfiles[0].get_tid(chr)] for chr in accession_list_chr):,.0f} nucleotides in chromosomes in the reference genome\")"
   ]
  },
  {
   "attachments": {},
   "cell_type": "markdown",
   "metadata": {},
   "source": [
    "## Summarize coverage\n",
    "Now, we are going to create 2 csv tables for summarize coverage and mapped reads to chr "
   ]
  },
  {
   "cell_type": "code",
   "execution_count": 11,
   "metadata": {},
   "outputs": [],
   "source": [
    "from functools import reduce\n",
    "def count_coverage(samfile: pysam.AlignmentFile, contig: str)-> int:\n",
    "    counts_per_each_base = samfile.count_coverage(\n",
    "        contig=contig, quality_threshold=0\n",
    "    )\n",
    "    add_ = lambda x, y: np.add(x, y, dtype='int64')\n",
    "    return reduce(add_, counts_per_each_base)"
   ]
  },
  {
   "cell_type": "code",
   "execution_count": 12,
   "metadata": {},
   "outputs": [],
   "source": [
    "def summarise_coverage(samfile):\n",
    "    coverages_per_base = [count_coverage(samfile, chr) for chr in accession_list_chr]\n",
    "    contigs_stats = samfile.get_index_statistics()\n",
    "    return pd.DataFrame({\n",
    "        'contig': samfile.references[0:13],\n",
    "        'chr_length': samfile.lengths[0:13],\n",
    "        'mapped_reads': [contig.mapped for contig in contigs_stats[0:13]],\n",
    "        'reads_length': [[x.infer_read_length() for x in samfile.fetch(chr)] for chr in accession_list_chr],\n",
    "        'unmapped_reads': [contig.unmapped for contig in contigs_stats[0:13]],\n",
    "        'coverage': [np.sum(x) for x in coverages_per_base],\n",
    "        })\n",
    "    "
   ]
  },
  {
   "cell_type": "code",
   "execution_count": 13,
   "metadata": {},
   "outputs": [
    {
     "ename": "",
     "evalue": "",
     "output_type": "error",
     "traceback": [
      "\u001b[1;31mCanceled future for execute_request message before replies were done"
     ]
    },
    {
     "ename": "",
     "evalue": "",
     "output_type": "error",
     "traceback": [
      "\u001b[1;31mThe Kernel crashed while executing code in the the current cell or a previous cell. Please review the code in the cell(s) to identify a possible cause of the failure. Click <a href='https://aka.ms/vscodeJupyterKernelCrash'>here</a> for more info. View Jupyter <a href='command:jupyter.viewOutput'>log</a> for further details."
     ]
    }
   ],
   "source": [
    "df = summarise_coverage(samfiles[0])\n",
    "df.to_csv(cov_5_perc, index=None)\n",
    "df"
   ]
  },
  {
   "cell_type": "code",
   "execution_count": null,
   "metadata": {},
   "outputs": [],
   "source": [
    "df = summarise_coverage(samfiles[1])\n",
    "df.to_csv(cov_1_perc, index=None)\n",
    "df"
   ]
  },
  {
   "cell_type": "code",
   "execution_count": 12,
   "metadata": {},
   "outputs": [
    {
     "data": {
      "text/html": [
       "<div>\n",
       "<style scoped>\n",
       "    .dataframe tbody tr th:only-of-type {\n",
       "        vertical-align: middle;\n",
       "    }\n",
       "\n",
       "    .dataframe tbody tr th {\n",
       "        vertical-align: top;\n",
       "    }\n",
       "\n",
       "    .dataframe thead th {\n",
       "        text-align: right;\n",
       "    }\n",
       "</style>\n",
       "<table border=\"1\" class=\"dataframe\">\n",
       "  <thead>\n",
       "    <tr style=\"text-align: right;\">\n",
       "      <th></th>\n",
       "      <th>contig</th>\n",
       "      <th>coverage_bin</th>\n",
       "      <th>counts</th>\n",
       "    </tr>\n",
       "  </thead>\n",
       "  <tbody>\n",
       "    <tr>\n",
       "      <th>0</th>\n",
       "      <td>CM044164.1</td>\n",
       "      <td>0</td>\n",
       "      <td>30121645</td>\n",
       "    </tr>\n",
       "    <tr>\n",
       "      <th>1</th>\n",
       "      <td>CM044164.1</td>\n",
       "      <td>1</td>\n",
       "      <td>4712781</td>\n",
       "    </tr>\n",
       "    <tr>\n",
       "      <th>2</th>\n",
       "      <td>CM044164.1</td>\n",
       "      <td>2</td>\n",
       "      <td>1165716</td>\n",
       "    </tr>\n",
       "    <tr>\n",
       "      <th>3</th>\n",
       "      <td>CM044164.1</td>\n",
       "      <td>3</td>\n",
       "      <td>315508</td>\n",
       "    </tr>\n",
       "    <tr>\n",
       "      <th>4</th>\n",
       "      <td>CM044164.1</td>\n",
       "      <td>4</td>\n",
       "      <td>129895</td>\n",
       "    </tr>\n",
       "    <tr>\n",
       "      <th>...</th>\n",
       "      <td>...</td>\n",
       "      <td>...</td>\n",
       "      <td>...</td>\n",
       "    </tr>\n",
       "    <tr>\n",
       "      <th>1102</th>\n",
       "      <td>CM044176.1</td>\n",
       "      <td>66</td>\n",
       "      <td>627</td>\n",
       "    </tr>\n",
       "    <tr>\n",
       "      <th>1103</th>\n",
       "      <td>CM044176.1</td>\n",
       "      <td>67</td>\n",
       "      <td>914</td>\n",
       "    </tr>\n",
       "    <tr>\n",
       "      <th>1104</th>\n",
       "      <td>CM044176.1</td>\n",
       "      <td>68</td>\n",
       "      <td>961</td>\n",
       "    </tr>\n",
       "    <tr>\n",
       "      <th>1105</th>\n",
       "      <td>CM044176.1</td>\n",
       "      <td>69</td>\n",
       "      <td>665</td>\n",
       "    </tr>\n",
       "    <tr>\n",
       "      <th>1106</th>\n",
       "      <td>CM044176.1</td>\n",
       "      <td>70</td>\n",
       "      <td>76</td>\n",
       "    </tr>\n",
       "  </tbody>\n",
       "</table>\n",
       "<p>1107 rows × 3 columns</p>\n",
       "</div>"
      ],
      "text/plain": [
       "          contig  coverage_bin    counts\n",
       "0     CM044164.1             0  30121645\n",
       "1     CM044164.1             1   4712781\n",
       "2     CM044164.1             2   1165716\n",
       "3     CM044164.1             3    315508\n",
       "4     CM044164.1             4    129895\n",
       "...          ...           ...       ...\n",
       "1102  CM044176.1            66       627\n",
       "1103  CM044176.1            67       914\n",
       "1104  CM044176.1            68       961\n",
       "1105  CM044176.1            69       665\n",
       "1106  CM044176.1            70        76\n",
       "\n",
       "[1107 rows x 3 columns]"
      ]
     },
     "execution_count": 12,
     "metadata": {},
     "output_type": "execute_result"
    }
   ],
   "source": [
    "def summarize_count(samfile):\n",
    "    coverages_per_base = [count_coverage(samfile, chr) for chr in accession_list_chr]\n",
    "    return pd.DataFrame({\n",
    "        'contig': np.concatenate([(np.amax(x)+1)*[chr] for x, chr in zip(coverages_per_base, accession_list_chr)]),\n",
    "        'coverage_bin': np.concatenate([list(range(0, np.amax(x)+1)) for x in coverages_per_base]),\n",
    "        'counts': np.concatenate([np.bincount(x) for x in coverages_per_base])\n",
    "        })"
   ]
  },
  {
   "cell_type": "code",
   "execution_count": null,
   "metadata": {},
   "outputs": [],
   "source": [
    "df = summarize_count(samfiles[0])\n",
    "df.to_csv(count_5_perc, index=None)\n",
    "df"
   ]
  },
  {
   "cell_type": "code",
   "execution_count": null,
   "metadata": {},
   "outputs": [],
   "source": [
    "df = summarize_count(samfiles[1])\n",
    "df.to_csv(count_1_perc, index=None)\n",
    "df"
   ]
  }
 ],
 "metadata": {
  "kernelspec": {
   "display_name": "Python 3",
   "language": "python",
   "name": "python3"
  },
  "language_info": {
   "codemirror_mode": {
    "name": "ipython",
    "version": 3
   },
   "file_extension": ".py",
   "mimetype": "text/x-python",
   "name": "python",
   "nbconvert_exporter": "python",
   "pygments_lexer": "ipython3",
   "version": "3.9.13"
  },
  "orig_nbformat": 4,
  "vscode": {
   "interpreter": {
    "hash": "d4d1e4263499bec80672ea0156c357c1ee493ec2b1c70f0acce89fc37c4a6abe"
   }
  }
 },
 "nbformat": 4,
 "nbformat_minor": 2
}
