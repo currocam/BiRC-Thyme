{
 "cells": [
  {
   "cell_type": "code",
   "execution_count": null,
   "metadata": {},
   "outputs": [],
   "source": [
    "from pathlib import Path\n",
    "import pysam\n"
   ]
  },
  {
   "cell_type": "code",
   "execution_count": null,
   "metadata": {},
   "outputs": [],
   "source": [
    "infiles = [Path(infile) for infile in snakemake.input]\n",
    "perc5 = str(snakemake.output[0])\n",
    "perc1 = str(snakemake.output[1])"
   ]
  },
  {
   "cell_type": "code",
   "execution_count": null,
   "metadata": {},
   "outputs": [],
   "source": [
    "import numpy as np\n",
    "import pandas as pd\n",
    "accession_list_chr = [\n",
    "    \"CM044164.1\", \"CM044165.1\", \"CM044166.1\", \"CM044167.1\",\n",
    "    \"CM044168.1\", \"CM044169.1\", \"CM044170.1\", \"CM044171.1\",\n",
    "    \"CM044172.1\", \"CM044173.1\", \"CM044174.1\", \"CM044175.1\",\n",
    "    \"CM044176.1\"\n",
    "]"
   ]
  },
  {
   "cell_type": "markdown",
   "metadata": {},
   "source": [
    "First, we create the index:"
   ]
  },
  {
   "cell_type": "code",
   "execution_count": null,
   "metadata": {},
   "outputs": [],
   "source": [
    "for infile in infiles:\n",
    "    pysam.index(str(infile))"
   ]
  },
  {
   "cell_type": "markdown",
   "metadata": {},
   "source": [
    "Now, we open the bam file:"
   ]
  },
  {
   "cell_type": "code",
   "execution_count": null,
   "metadata": {},
   "outputs": [],
   "source": [
    "samfiles = [pysam.AlignmentFile(infile, \"rb\") for infile in infiles]"
   ]
  },
  {
   "cell_type": "code",
   "execution_count": null,
   "metadata": {},
   "outputs": [],
   "source": [
    "from functools import reduce\n",
    "from itertools import chain\n",
    "def count_coverage(samfile: pysam.AlignmentFile, contig: str)-> int:\n",
    "    counts_per_each_base = samfile.count_coverage(\n",
    "        contig=contig, quality_threshold=0\n",
    "    )\n",
    "    add_ = lambda x, y: np.add(x, y, dtype='int64')\n",
    "    return reduce(add_, counts_per_each_base)\n",
    "\n",
    "def zero_runs(a):\n",
    "    # Create an array that is 1 where a is 0, and pad each end with an extra 0.\n",
    "    iszero = np.concatenate(([0], np.equal(a, 0).view(np.int8), [0]))\n",
    "    absdiff = np.abs(np.diff(iszero))\n",
    "    # Runs start and end where absdiff is 1.\n",
    "    ranges = np.where(absdiff == 1)[0].reshape(-1, 2)\n",
    "    return ranges\n",
    "\n",
    "def summarise_big_gaps(samfile):\n",
    "    intervals = [zero_runs(count_coverage(samfile, chr)) for chr in accession_list_chr] \n",
    "    return pd.DataFrame({\n",
    "        'contig': chain.from_iterable(i*[name] for i, name in zip([len(x) for x in intervals], samfile.references[0:13])),\n",
    "        'start': chain.from_iterable([x[0] for x in interval] for interval in intervals),\n",
    "        'end': chain.from_iterable([x[1] for x in interval] for interval in intervals)\n",
    "        })\n"
   ]
  },
  {
   "cell_type": "code",
   "execution_count": null,
   "metadata": {},
   "outputs": [],
   "source": [
    "df = summarise_big_gaps(samfiles[0])\n",
    "df\n",
    "df.to_csv(perc5)"
   ]
  },
  {
   "cell_type": "code",
   "execution_count": null,
   "metadata": {},
   "outputs": [],
   "source": [
    "df = summarise_big_gaps(samfiles[1])\n",
    "df\n",
    "df.to_csv(perc1)"
   ]
  }
 ],
 "metadata": {
  "kernelspec": {
   "display_name": "Python 3 (ipykernel)",
   "language": "python",
   "name": "python3"
  },
  "language_info": {
   "codemirror_mode": {
    "name": "ipython",
    "version": 3
   },
   "file_extension": ".py",
   "mimetype": "text/x-python",
   "name": "python",
   "nbconvert_exporter": "python",
   "pygments_lexer": "ipython3",
   "version": "3.9.2"
  },
  "vscode": {
   "interpreter": {
    "hash": "31f2aee4e71d21fbe5cf8b01ff0e069b9275f58929596ceb00d14d90e3e16cd6"
   }
  }
 },
 "nbformat": 4,
 "nbformat_minor": 2
}
