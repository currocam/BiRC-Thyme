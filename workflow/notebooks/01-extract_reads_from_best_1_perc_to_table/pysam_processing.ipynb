{
 "cells": [
  {
   "cell_type": "code",
   "execution_count": 1,
   "metadata": {},
   "outputs": [
    {
     "name": "stdout",
     "output_type": "stream",
     "text": [
      "Defaulting to user installation because normal site-packages is not writeable\n",
      "Requirement already satisfied: pysam in /home/currocam/.local/lib/python3.10/site-packages (0.20.0)\n",
      "Note: you may need to restart the kernel to use updated packages.\n",
      "Defaulting to user installation because normal site-packages is not writeable\n",
      "Requirement already satisfied: matplotlib in /home/currocam/.local/lib/python3.10/site-packages (3.6.3)\n",
      "Requirement already satisfied: contourpy>=1.0.1 in /home/currocam/.local/lib/python3.10/site-packages (from matplotlib) (1.0.7)\n",
      "Requirement already satisfied: pillow>=6.2.0 in /usr/lib/python3/dist-packages (from matplotlib) (9.0.1)\n",
      "Requirement already satisfied: pyparsing>=2.2.1 in /usr/lib/python3/dist-packages (from matplotlib) (2.4.7)\n",
      "Requirement already satisfied: cycler>=0.10 in /home/currocam/.local/lib/python3.10/site-packages (from matplotlib) (0.11.0)\n",
      "Requirement already satisfied: fonttools>=4.22.0 in /home/currocam/.local/lib/python3.10/site-packages (from matplotlib) (4.38.0)\n",
      "Requirement already satisfied: kiwisolver>=1.0.1 in /home/currocam/.local/lib/python3.10/site-packages (from matplotlib) (1.4.4)\n",
      "Requirement already satisfied: numpy>=1.19 in /usr/local/lib/python3.10/dist-packages (from matplotlib) (1.23.2)\n",
      "Requirement already satisfied: packaging>=20.0 in /home/currocam/.local/lib/python3.10/site-packages (from matplotlib) (22.0)\n",
      "Requirement already satisfied: python-dateutil>=2.7 in /home/currocam/.local/lib/python3.10/site-packages (from matplotlib) (2.8.2)\n",
      "Requirement already satisfied: six>=1.5 in /usr/lib/python3/dist-packages (from python-dateutil>=2.7->matplotlib) (1.16.0)\n",
      "Note: you may need to restart the kernel to use updated packages.\n"
     ]
    }
   ],
   "source": [
    "%pip install pysam\n",
    "%pip install matplotlib"
   ]
  },
  {
   "cell_type": "code",
   "execution_count": 2,
   "metadata": {},
   "outputs": [],
   "source": [
    "from pathlib import Path\n",
    "import pysam\n",
    "file = Path(\"../../../results/aligned/GCA_024222315.1_ASM2422231v1_genomic_aln_best_1_perc.sorted.bam\")"
   ]
  },
  {
   "cell_type": "code",
   "execution_count": 3,
   "metadata": {},
   "outputs": [],
   "source": [
    "import numpy as np\n",
    "import pandas as pd\n",
    "accession_list_chr = [\n",
    "    \"CM044164.1\", \"CM044165.1\", \"CM044166.1\", \"CM044167.1\",\n",
    "    \"CM044168.1\", \"CM044169.1\", \"CM044170.1\", \"CM044171.1\",\n",
    "    \"CM044172.1\", \"CM044173.1\", \"CM044174.1\", \"CM044175.1\",\n",
    "    \"CM044176.1\"\n",
    "]"
   ]
  },
  {
   "attachments": {},
   "cell_type": "markdown",
   "metadata": {},
   "source": [
    "First, we create the index:"
   ]
  },
  {
   "cell_type": "code",
   "execution_count": 4,
   "metadata": {},
   "outputs": [
    {
     "data": {
      "text/plain": [
       "''"
      ]
     },
     "execution_count": 4,
     "metadata": {},
     "output_type": "execute_result"
    }
   ],
   "source": [
    "pysam.index(str(file))"
   ]
  },
  {
   "attachments": {},
   "cell_type": "markdown",
   "metadata": {},
   "source": [
    "Now, we open the bam file:"
   ]
  },
  {
   "cell_type": "code",
   "execution_count": 5,
   "metadata": {},
   "outputs": [],
   "source": [
    "samfile = pysam.AlignmentFile(file, \"rb\")"
   ]
  },
  {
   "attachments": {},
   "cell_type": "markdown",
   "metadata": {},
   "source": [
    "## Number of mapped and unmapped reads"
   ]
  },
  {
   "cell_type": "code",
   "execution_count": 6,
   "metadata": {},
   "outputs": [
    {
     "name": "stdout",
     "output_type": "stream",
     "text": [
      "There are 87,782 mapped reads\n",
      "There are 254 unmapped reads\n",
      "99.71% were mapped\n"
     ]
    }
   ],
   "source": [
    "print(f\"There are {samfile.mapped:,.0f} mapped reads\")\n",
    "print(f\"There are {samfile.unmapped:,.0f} unmapped reads\")\n",
    "print(f\"{samfile.mapped/(samfile.unmapped + samfile.mapped)*100:,.2f}% were mapped\")"
   ]
  },
  {
   "attachments": {},
   "cell_type": "markdown",
   "metadata": {},
   "source": [
    "There are the following number of reads:"
   ]
  },
  {
   "cell_type": "code",
   "execution_count": 7,
   "metadata": {},
   "outputs": [
    {
     "data": {
      "text/plain": [
       "88036"
      ]
     },
     "execution_count": 7,
     "metadata": {},
     "output_type": "execute_result"
    }
   ],
   "source": [
    "(samfile.mapped + samfile.unmapped) "
   ]
  },
  {
   "cell_type": "code",
   "execution_count": 8,
   "metadata": {},
   "outputs": [
    {
     "name": "stdout",
     "output_type": "stream",
     "text": [
      "There are 478 contigs\n",
      "There are 488,761,465 nucleotides in chromosomes in the reference genome\n"
     ]
    }
   ],
   "source": [
    "print(f\"There are {samfile.nreferences} contigs\")\n",
    "print(f\"There are {sum(samfile.lengths[samfile.get_tid(chr)] for chr in accession_list_chr):,.0f} nucleotides in chromosomes in the reference genome\")"
   ]
  },
  {
   "attachments": {},
   "cell_type": "markdown",
   "metadata": {},
   "source": [
    "Now, we are going to create 2 csv tables for summarize coverage and mapped reads to chr "
   ]
  },
  {
   "cell_type": "code",
   "execution_count": 9,
   "metadata": {},
   "outputs": [],
   "source": [
    "from functools import reduce\n",
    "def count_coverage(samfile: pysam.AlignmentFile, contig: str)-> int:\n",
    "    counts_per_each_base = samfile.count_coverage(\n",
    "        contig=contig, quality_threshold=0\n",
    "    )\n",
    "    add_ = lambda x, y: np.add(x, y, dtype='int64')\n",
    "    return reduce(add_, counts_per_each_base)"
   ]
  },
  {
   "cell_type": "code",
   "execution_count": 10,
   "metadata": {},
   "outputs": [
    {
     "data": {
      "text/plain": [
       "[array([0, 0, 0, ..., 0, 0, 0]),\n",
       " array([0, 0, 0, ..., 0, 0, 0]),\n",
       " array([0, 0, 0, ..., 0, 0, 0]),\n",
       " array([0, 0, 0, ..., 0, 0, 0]),\n",
       " array([0, 0, 0, ..., 0, 0, 0]),\n",
       " array([0, 0, 0, ..., 0, 0, 0]),\n",
       " array([0, 0, 0, ..., 0, 0, 0]),\n",
       " array([0, 0, 0, ..., 0, 0, 0]),\n",
       " array([0, 0, 0, ..., 0, 0, 0]),\n",
       " array([0, 0, 0, ..., 0, 0, 0]),\n",
       " array([0, 0, 0, ..., 0, 0, 0]),\n",
       " array([0, 0, 1, ..., 0, 0, 0]),\n",
       " array([0, 0, 0, ..., 0, 0, 0])]"
      ]
     },
     "execution_count": 10,
     "metadata": {},
     "output_type": "execute_result"
    }
   ],
   "source": [
    "coverages_per_base = [count_coverage(samfile, chr) for chr in accession_list_chr]\n",
    "coverages_per_base\n"
   ]
  },
  {
   "cell_type": "code",
   "execution_count": 11,
   "metadata": {},
   "outputs": [
    {
     "data": {
      "text/html": [
       "<div>\n",
       "<style scoped>\n",
       "    .dataframe tbody tr th:only-of-type {\n",
       "        vertical-align: middle;\n",
       "    }\n",
       "\n",
       "    .dataframe tbody tr th {\n",
       "        vertical-align: top;\n",
       "    }\n",
       "\n",
       "    .dataframe thead th {\n",
       "        text-align: right;\n",
       "    }\n",
       "</style>\n",
       "<table border=\"1\" class=\"dataframe\">\n",
       "  <thead>\n",
       "    <tr style=\"text-align: right;\">\n",
       "      <th></th>\n",
       "      <th>contig</th>\n",
       "      <th>chr_length</th>\n",
       "      <th>mapped_reads</th>\n",
       "      <th>reads_length</th>\n",
       "      <th>unmapped_reads</th>\n",
       "      <th>coverage</th>\n",
       "    </tr>\n",
       "  </thead>\n",
       "  <tbody>\n",
       "    <tr>\n",
       "      <th>0</th>\n",
       "      <td>CM044164.1</td>\n",
       "      <td>36629419</td>\n",
       "      <td>5902</td>\n",
       "      <td>[21384, 23253, 20809, 20225, 24472, 21384, 197...</td>\n",
       "      <td>0</td>\n",
       "      <td>10441348</td>\n",
       "    </tr>\n",
       "    <tr>\n",
       "      <th>1</th>\n",
       "      <td>CM044165.1</td>\n",
       "      <td>34679789</td>\n",
       "      <td>5752</td>\n",
       "      <td>[19591, 22495, 20545, 21646, 20118, 20815, 208...</td>\n",
       "      <td>0</td>\n",
       "      <td>12501724</td>\n",
       "    </tr>\n",
       "    <tr>\n",
       "      <th>2</th>\n",
       "      <td>CM044166.1</td>\n",
       "      <td>43944365</td>\n",
       "      <td>7277</td>\n",
       "      <td>[22255, 21455, 21455, 21455, 22255, 20049, 234...</td>\n",
       "      <td>0</td>\n",
       "      <td>16900645</td>\n",
       "    </tr>\n",
       "    <tr>\n",
       "      <th>3</th>\n",
       "      <td>CM044167.1</td>\n",
       "      <td>49018360</td>\n",
       "      <td>9057</td>\n",
       "      <td>[21698, 19937, 20739, 20725, 22160, 22433, 196...</td>\n",
       "      <td>0</td>\n",
       "      <td>19402431</td>\n",
       "    </tr>\n",
       "    <tr>\n",
       "      <th>4</th>\n",
       "      <td>CM044168.1</td>\n",
       "      <td>43740154</td>\n",
       "      <td>7080</td>\n",
       "      <td>[22914, 22914, 22056, 22056, 19630, 22056, 221...</td>\n",
       "      <td>0</td>\n",
       "      <td>16012009</td>\n",
       "    </tr>\n",
       "    <tr>\n",
       "      <th>5</th>\n",
       "      <td>CM044169.1</td>\n",
       "      <td>34491633</td>\n",
       "      <td>6553</td>\n",
       "      <td>[22590, 19854, 21286, 21084, 22450, 23008, 230...</td>\n",
       "      <td>0</td>\n",
       "      <td>13721077</td>\n",
       "    </tr>\n",
       "    <tr>\n",
       "      <th>6</th>\n",
       "      <td>CM044170.1</td>\n",
       "      <td>34851334</td>\n",
       "      <td>5783</td>\n",
       "      <td>[21762, 18980, 23979, 18980, 21203, 22866, 219...</td>\n",
       "      <td>0</td>\n",
       "      <td>11689792</td>\n",
       "    </tr>\n",
       "    <tr>\n",
       "      <th>7</th>\n",
       "      <td>CM044171.1</td>\n",
       "      <td>40183539</td>\n",
       "      <td>5982</td>\n",
       "      <td>[21157, 24463, 24463, 20087, 19993, 19993, 200...</td>\n",
       "      <td>0</td>\n",
       "      <td>12387135</td>\n",
       "    </tr>\n",
       "    <tr>\n",
       "      <th>8</th>\n",
       "      <td>CM044172.1</td>\n",
       "      <td>31440434</td>\n",
       "      <td>5011</td>\n",
       "      <td>[21575, 19938, 19474, 22137, 22009, 20640, 190...</td>\n",
       "      <td>0</td>\n",
       "      <td>10437369</td>\n",
       "    </tr>\n",
       "    <tr>\n",
       "      <th>9</th>\n",
       "      <td>CM044173.1</td>\n",
       "      <td>33596851</td>\n",
       "      <td>5826</td>\n",
       "      <td>[23328, 21844, 21310, 21763, 19424, 20485, 195...</td>\n",
       "      <td>0</td>\n",
       "      <td>11830485</td>\n",
       "    </tr>\n",
       "    <tr>\n",
       "      <th>10</th>\n",
       "      <td>CM044174.1</td>\n",
       "      <td>32837812</td>\n",
       "      <td>5545</td>\n",
       "      <td>[20402, 21812, 20847, 22103, 23597, 20655, 199...</td>\n",
       "      <td>0</td>\n",
       "      <td>10384818</td>\n",
       "    </tr>\n",
       "    <tr>\n",
       "      <th>11</th>\n",
       "      <td>CM044175.1</td>\n",
       "      <td>36440660</td>\n",
       "      <td>6466</td>\n",
       "      <td>[20118, 20118, 21187, 21187, 20118, 20118, 201...</td>\n",
       "      <td>0</td>\n",
       "      <td>13205623</td>\n",
       "    </tr>\n",
       "    <tr>\n",
       "      <th>12</th>\n",
       "      <td>CM044176.1</td>\n",
       "      <td>36907115</td>\n",
       "      <td>6478</td>\n",
       "      <td>[19707, 23253, 21384, 24482, 23423, 19129, 186...</td>\n",
       "      <td>0</td>\n",
       "      <td>14650969</td>\n",
       "    </tr>\n",
       "  </tbody>\n",
       "</table>\n",
       "</div>"
      ],
      "text/plain": [
       "        contig  chr_length  mapped_reads  \\\n",
       "0   CM044164.1    36629419          5902   \n",
       "1   CM044165.1    34679789          5752   \n",
       "2   CM044166.1    43944365          7277   \n",
       "3   CM044167.1    49018360          9057   \n",
       "4   CM044168.1    43740154          7080   \n",
       "5   CM044169.1    34491633          6553   \n",
       "6   CM044170.1    34851334          5783   \n",
       "7   CM044171.1    40183539          5982   \n",
       "8   CM044172.1    31440434          5011   \n",
       "9   CM044173.1    33596851          5826   \n",
       "10  CM044174.1    32837812          5545   \n",
       "11  CM044175.1    36440660          6466   \n",
       "12  CM044176.1    36907115          6478   \n",
       "\n",
       "                                         reads_length  unmapped_reads  \\\n",
       "0   [21384, 23253, 20809, 20225, 24472, 21384, 197...               0   \n",
       "1   [19591, 22495, 20545, 21646, 20118, 20815, 208...               0   \n",
       "2   [22255, 21455, 21455, 21455, 22255, 20049, 234...               0   \n",
       "3   [21698, 19937, 20739, 20725, 22160, 22433, 196...               0   \n",
       "4   [22914, 22914, 22056, 22056, 19630, 22056, 221...               0   \n",
       "5   [22590, 19854, 21286, 21084, 22450, 23008, 230...               0   \n",
       "6   [21762, 18980, 23979, 18980, 21203, 22866, 219...               0   \n",
       "7   [21157, 24463, 24463, 20087, 19993, 19993, 200...               0   \n",
       "8   [21575, 19938, 19474, 22137, 22009, 20640, 190...               0   \n",
       "9   [23328, 21844, 21310, 21763, 19424, 20485, 195...               0   \n",
       "10  [20402, 21812, 20847, 22103, 23597, 20655, 199...               0   \n",
       "11  [20118, 20118, 21187, 21187, 20118, 20118, 201...               0   \n",
       "12  [19707, 23253, 21384, 24482, 23423, 19129, 186...               0   \n",
       "\n",
       "    coverage  \n",
       "0   10441348  \n",
       "1   12501724  \n",
       "2   16900645  \n",
       "3   19402431  \n",
       "4   16012009  \n",
       "5   13721077  \n",
       "6   11689792  \n",
       "7   12387135  \n",
       "8   10437369  \n",
       "9   11830485  \n",
       "10  10384818  \n",
       "11  13205623  \n",
       "12  14650969  "
      ]
     },
     "execution_count": 11,
     "metadata": {},
     "output_type": "execute_result"
    }
   ],
   "source": [
    "contigs_stats = samfile.get_index_statistics()\n",
    "df = pd.DataFrame({\n",
    "    'contig': samfile.references[0:13],\n",
    "    'chr_length': samfile.lengths[0:13],\n",
    "    'mapped_reads': [contig.mapped for contig in contigs_stats[0:13]],\n",
    "    'reads_length': [[x.infer_read_length() for x in samfile.fetch(chr)] for chr in accession_list_chr],\n",
    "    'unmapped_reads': [contig.unmapped for contig in contigs_stats[0:13]],\n",
    "    'coverage': [np.sum(x) for x in coverages_per_base],\n",
    "    })\n",
    "df.to_csv('chr_contig_data.csv', index=None)\n",
    "df"
   ]
  },
  {
   "cell_type": "code",
   "execution_count": 12,
   "metadata": {},
   "outputs": [
    {
     "data": {
      "text/html": [
       "<div>\n",
       "<style scoped>\n",
       "    .dataframe tbody tr th:only-of-type {\n",
       "        vertical-align: middle;\n",
       "    }\n",
       "\n",
       "    .dataframe tbody tr th {\n",
       "        vertical-align: top;\n",
       "    }\n",
       "\n",
       "    .dataframe thead th {\n",
       "        text-align: right;\n",
       "    }\n",
       "</style>\n",
       "<table border=\"1\" class=\"dataframe\">\n",
       "  <thead>\n",
       "    <tr style=\"text-align: right;\">\n",
       "      <th></th>\n",
       "      <th>contig</th>\n",
       "      <th>coverage_bin</th>\n",
       "      <th>counts</th>\n",
       "    </tr>\n",
       "  </thead>\n",
       "  <tbody>\n",
       "    <tr>\n",
       "      <th>0</th>\n",
       "      <td>CM044164.1</td>\n",
       "      <td>0</td>\n",
       "      <td>30121645</td>\n",
       "    </tr>\n",
       "    <tr>\n",
       "      <th>1</th>\n",
       "      <td>CM044164.1</td>\n",
       "      <td>1</td>\n",
       "      <td>4712781</td>\n",
       "    </tr>\n",
       "    <tr>\n",
       "      <th>2</th>\n",
       "      <td>CM044164.1</td>\n",
       "      <td>2</td>\n",
       "      <td>1165716</td>\n",
       "    </tr>\n",
       "    <tr>\n",
       "      <th>3</th>\n",
       "      <td>CM044164.1</td>\n",
       "      <td>3</td>\n",
       "      <td>315508</td>\n",
       "    </tr>\n",
       "    <tr>\n",
       "      <th>4</th>\n",
       "      <td>CM044164.1</td>\n",
       "      <td>4</td>\n",
       "      <td>129895</td>\n",
       "    </tr>\n",
       "    <tr>\n",
       "      <th>...</th>\n",
       "      <td>...</td>\n",
       "      <td>...</td>\n",
       "      <td>...</td>\n",
       "    </tr>\n",
       "    <tr>\n",
       "      <th>1102</th>\n",
       "      <td>CM044176.1</td>\n",
       "      <td>66</td>\n",
       "      <td>627</td>\n",
       "    </tr>\n",
       "    <tr>\n",
       "      <th>1103</th>\n",
       "      <td>CM044176.1</td>\n",
       "      <td>67</td>\n",
       "      <td>914</td>\n",
       "    </tr>\n",
       "    <tr>\n",
       "      <th>1104</th>\n",
       "      <td>CM044176.1</td>\n",
       "      <td>68</td>\n",
       "      <td>961</td>\n",
       "    </tr>\n",
       "    <tr>\n",
       "      <th>1105</th>\n",
       "      <td>CM044176.1</td>\n",
       "      <td>69</td>\n",
       "      <td>665</td>\n",
       "    </tr>\n",
       "    <tr>\n",
       "      <th>1106</th>\n",
       "      <td>CM044176.1</td>\n",
       "      <td>70</td>\n",
       "      <td>76</td>\n",
       "    </tr>\n",
       "  </tbody>\n",
       "</table>\n",
       "<p>1107 rows × 3 columns</p>\n",
       "</div>"
      ],
      "text/plain": [
       "          contig  coverage_bin    counts\n",
       "0     CM044164.1             0  30121645\n",
       "1     CM044164.1             1   4712781\n",
       "2     CM044164.1             2   1165716\n",
       "3     CM044164.1             3    315508\n",
       "4     CM044164.1             4    129895\n",
       "...          ...           ...       ...\n",
       "1102  CM044176.1            66       627\n",
       "1103  CM044176.1            67       914\n",
       "1104  CM044176.1            68       961\n",
       "1105  CM044176.1            69       665\n",
       "1106  CM044176.1            70        76\n",
       "\n",
       "[1107 rows x 3 columns]"
      ]
     },
     "execution_count": 12,
     "metadata": {},
     "output_type": "execute_result"
    }
   ],
   "source": [
    "df2 = pd.DataFrame({\n",
    "    'contig': np.concatenate([(np.amax(x)+1)*[chr] for x, chr in zip(coverages_per_base, accession_list_chr)]),\n",
    "    'coverage_bin': np.concatenate([list(range(0, np.amax(x)+1)) for x in coverages_per_base]),\n",
    "    'counts': np.concatenate([np.bincount(x) for x in coverages_per_base])\n",
    "    })\n",
    "df2.to_csv('chr_bin_count_coverage.csv', index=None)\n",
    "df2"
   ]
  }
 ],
 "metadata": {
  "kernelspec": {
   "display_name": "Python 3",
   "language": "python",
   "name": "python3"
  },
  "language_info": {
   "codemirror_mode": {
    "name": "ipython",
    "version": 3
   },
   "file_extension": ".py",
   "mimetype": "text/x-python",
   "name": "python",
   "nbconvert_exporter": "python",
   "pygments_lexer": "ipython3",
   "version": "3.10.6"
  },
  "orig_nbformat": 4,
  "vscode": {
   "interpreter": {
    "hash": "767d51c1340bd893661ea55ea3124f6de3c7a262a8b4abca0554b478b1e2ff90"
   }
  }
 },
 "nbformat": 4,
 "nbformat_minor": 2
}
