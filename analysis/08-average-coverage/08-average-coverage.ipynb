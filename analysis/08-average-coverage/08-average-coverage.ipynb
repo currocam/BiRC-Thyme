{
 "cells": [
  {
   "attachments": {},
   "cell_type": "markdown",
   "metadata": {},
   "source": [
    "This is a quick jupyter notebook to compute average theoretical coverage. First, we get average length. "
   ]
  },
  {
   "cell_type": "code",
   "execution_count": 6,
   "metadata": {},
   "outputs": [
    {
     "name": "stdout",
     "output_type": "stream",
     "text": [
      "Average Length: 19144.4\n"
     ]
    }
   ],
   "source": [
    "%%bash\n",
    "zcat ../../results/filtered/THYME_607L_hifi_best_5_perc.fastq.gz \\\n",
    "    | awk 'NR%4==2{sum+=length($1)} END{print \"Average Length: \" sum/(NR/4)}'"
   ]
  },
  {
   "attachments": {},
   "cell_type": "markdown",
   "metadata": {},
   "source": [
    "Now, we get number of mapped reads per chromosome."
   ]
  },
  {
   "cell_type": "code",
   "execution_count": null,
   "metadata": {},
   "outputs": [],
   "source": [
    "%%bash\n",
    "#ls ../../results/aligned/chr_aln_best_5_perc.sorted.bam\n",
    "samtools idxstats ../../results/aligned/chr_aln_best_5_perc.sorted.bam > idxtstats"
   ]
  },
  {
   "attachments": {},
   "cell_type": "markdown",
   "metadata": {},
   "source": [
    "Now, we compute the average coverage per chromosome."
   ]
  },
  {
   "cell_type": "code",
   "execution_count": 11,
   "metadata": {},
   "outputs": [
    {
     "data": {
      "text/plain": [
       "0     18.394177\n",
       "1     18.152513\n",
       "2     18.389694\n",
       "3     20.110494\n",
       "4     17.857102\n",
       "5     20.457840\n",
       "6     18.096121\n",
       "7     16.316091\n",
       "8     16.775475\n",
       "9     19.056162\n",
       "10    17.690511\n",
       "11    20.387576\n",
       "12    17.976705\n",
       "dtype: float64"
      ]
     },
     "execution_count": 11,
     "metadata": {},
     "output_type": "execute_result"
    }
   ],
   "source": [
    "import pandas as pd\n",
    "df = pd.read_csv('idxtstats', sep='\\t', header=None)\n",
    "#Keep only first 13 rows\n",
    "df = df.iloc[:13, :]\n",
    "df.columns = ['chr', 'length', 'mapped_reads', 'unmapped_reads']\n",
    "average_long_read = 19144.4\n",
    "average_coverages = df.mapped_reads*average_long_read/df.length\n",
    "average_coverages"
   ]
  },
  {
   "cell_type": "code",
   "execution_count": 16,
   "metadata": {},
   "outputs": [
    {
     "data": {
      "text/plain": [
       "18.152512554214216"
      ]
     },
     "execution_count": 16,
     "metadata": {},
     "output_type": "execute_result"
    }
   ],
   "source": [
    "import numpy as np\n",
    "np.median(average_coverages)"
   ]
  },
  {
   "cell_type": "code",
   "execution_count": 15,
   "metadata": {},
   "outputs": [
    {
     "data": {
      "text/plain": [
       "20.457839592575976"
      ]
     },
     "execution_count": 15,
     "metadata": {},
     "output_type": "execute_result"
    }
   ],
   "source": [
    "np.max(average_coverages)"
   ]
  }
 ],
 "metadata": {
  "kernelspec": {
   "display_name": "Python 3",
   "language": "python",
   "name": "python3"
  },
  "language_info": {
   "codemirror_mode": {
    "name": "ipython",
    "version": 3
   },
   "file_extension": ".py",
   "mimetype": "text/x-python",
   "name": "python",
   "nbconvert_exporter": "python",
   "pygments_lexer": "ipython3",
   "version": "3.8.15"
  },
  "orig_nbformat": 4
 },
 "nbformat": 4,
 "nbformat_minor": 2
}
